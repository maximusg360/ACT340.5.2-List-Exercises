{
  "nbformat": 4,
  "nbformat_minor": 0,
  "metadata": {
    "colab": {
      "provenance": [],
      "include_colab_link": true
    },
    "kernelspec": {
      "name": "python3",
      "display_name": "Python 3"
    },
    "language_info": {
      "name": "python"
    }
  },
  "cells": [
    {
      "cell_type": "markdown",
      "metadata": {
        "id": "view-in-github",
        "colab_type": "text"
      },
      "source": [
        "<a href=\"https://colab.research.google.com/github/GabrielaGuayara/ACT340.5.2/blob/main/ACT_340_5_2_List_Exercises_Advanced.ipynb\" target=\"_parent\"><img src=\"https://colab.research.google.com/assets/colab-badge.svg\" alt=\"Open In Colab\"/></a>"
      ]
    },
    {
      "cell_type": "markdown",
      "source": [
        "# List Excercises- Advanced\n",
        "\n",
        "Complete the following practice excercises below to build up your skills with manipulating lists."
      ],
      "metadata": {
        "id": "qK41rEENgA65"
      }
    },
    {
      "cell_type": "markdown",
      "source": [
        "**Problem 1**\n",
        "\n",
        "\n",
        "\n",
        "*   Using the list below, use a Class method to add the string \"skirt\" to the end of the list.\n",
        "\n"
      ],
      "metadata": {
        "id": "Q2j3l_wyf-UH"
      }
    },
    {
      "cell_type": "code",
      "source": [
        "clothing= ['socks', 'pants', 'shirt', 'polo']\n",
        "class ClothingManager:\n",
        "    def __init__(self, clothing_list):\n",
        "        self.clothing = clothing_list\n",
        "\n",
        "    def add_clothing_item(self, item):\n",
        "        self.clothing.append(item)\n",
        "\n",
        "manager = ClothingManager(clothing)\n",
        "manager.add_clothing_item(\"skirt\")\n",
        "print(manager.clothing)\n"
      ],
      "metadata": {
        "id": "hbDcD9R0fiJd",
        "outputId": "3a58bc9a-ed9b-490d-862f-1b1abcbf802f",
        "colab": {
          "base_uri": "https://localhost:8080/"
        }
      },
      "execution_count": 1,
      "outputs": [
        {
          "output_type": "stream",
          "name": "stdout",
          "text": [
            "['socks', 'pants', 'shirt', 'polo', 'skirt']\n"
          ]
        }
      ]
    },
    {
      "cell_type": "markdown",
      "source": [
        "**Problem 2**\n",
        "\n",
        "\n",
        "\n",
        "*   Using the same list as above, add a list to the 2nd index that includes the following strings:\n",
        "> 'suit jacket', 'suit pants', 'tie', 'button down'\n",
        "\n",
        "\n",
        "\n"
      ],
      "metadata": {
        "id": "y356o0Fjf5F_"
      }
    },
    {
      "cell_type": "code",
      "source": [
        "#clothing.insert(2,['suit jacket', 'suit pants', 'tie', 'button down'])\n",
        "def add_list_to_index(lst, index, new_list):\n",
        "    lst.insert(index, new_list)\n",
        "    return lst\n",
        "add_list_to_index(clothing, 2, ['suit jacket', 'suit pants', 'tie', 'button down'])\n",
        "print(clothing)"
      ],
      "metadata": {
        "id": "nWyQ5oVmghJz",
        "outputId": "81103b52-b7ba-4024-fd50-168ab98a69d1",
        "colab": {
          "base_uri": "https://localhost:8080/"
        }
      },
      "execution_count": 4,
      "outputs": [
        {
          "output_type": "stream",
          "name": "stdout",
          "text": [
            "['socks', 'pants', ['suit jacket', 'suit pants', 'tie', 'button down'], ['suit jacket', 'suit pants', 'tie', 'button down'], 'shirt', 'polo', 'skirt']\n"
          ]
        }
      ]
    },
    {
      "cell_type": "markdown",
      "source": [
        "**Problem 3**\n",
        "\n",
        "\n",
        "\n",
        "*   Use the list below and use a Class method to get the total number of times the integer 14 appears in the list.\n",
        "\n"
      ],
      "metadata": {
        "id": "ibOLVpd9ghnV"
      }
    },
    {
      "cell_type": "code",
      "source": [
        "nums= [2, 150, 14, 36, 78, 81, 14, 1000, 54, 14, 14]\n",
        "print(nums.count(14))"
      ],
      "metadata": {
        "id": "uew5D-NjgzGu",
        "outputId": "c27383a1-460c-4f86-c575-038d33c695aa",
        "colab": {
          "base_uri": "https://localhost:8080/"
        }
      },
      "execution_count": 5,
      "outputs": [
        {
          "output_type": "stream",
          "name": "stdout",
          "text": [
            "4\n"
          ]
        }
      ]
    },
    {
      "cell_type": "markdown",
      "source": [
        "**Problem 4**\n",
        "\n",
        "\n",
        "*  Use the same list as above\n",
        "*  Use a built-in function to find the total of all the numbers in the list.\n",
        "\n"
      ],
      "metadata": {
        "id": "06UCPuTZhCfh"
      }
    },
    {
      "cell_type": "code",
      "source": [
        "print(sum(nums))"
      ],
      "metadata": {
        "id": "uvbtynLshN7h",
        "outputId": "cf933e55-52ad-4e0d-d6fc-c879348cf4d4",
        "colab": {
          "base_uri": "https://localhost:8080/"
        }
      },
      "execution_count": 6,
      "outputs": [
        {
          "output_type": "stream",
          "name": "stdout",
          "text": [
            "1457\n"
          ]
        }
      ]
    },
    {
      "cell_type": "markdown",
      "source": [
        "**Problem 5**\n",
        "\n",
        "\n",
        "\n",
        "*   Use the same list as above\n",
        "*   Slice the list so that it is reversed without using the .reverse() method\n",
        "\n"
      ],
      "metadata": {
        "id": "2y7Vph1ThSqQ"
      }
    },
    {
      "cell_type": "code",
      "source": [
        "def reverse_list(lst):\n",
        "    return lst[::-1]\n",
        "print(reverse_list(nums))"
      ],
      "metadata": {
        "id": "jFRwVKvyh6ip",
        "outputId": "f3ef2dc4-ebd9-4632-a59c-08674a5fda64",
        "colab": {
          "base_uri": "https://localhost:8080/"
        }
      },
      "execution_count": 7,
      "outputs": [
        {
          "output_type": "stream",
          "name": "stdout",
          "text": [
            "[14, 14, 54, 1000, 14, 81, 78, 36, 14, 150, 2]\n"
          ]
        }
      ]
    },
    {
      "cell_type": "markdown",
      "source": [
        "**Problem 6**\n",
        "\n",
        "\n",
        "\n",
        "*   Use the list below.\n",
        "*   Slice the list so only the last two elements are included in the slice.\n",
        "\n"
      ],
      "metadata": {
        "id": "UV5mw3sXh7AL"
      }
    },
    {
      "cell_type": "code",
      "source": [
        "one_to_five= [1, 2, 3, 4, 5]\n",
        "print(one_to_five[-2:])"
      ],
      "metadata": {
        "id": "1gj4O32HiLg7",
        "outputId": "46f56f12-321a-4f07-b7c8-d73c5eb3b393",
        "colab": {
          "base_uri": "https://localhost:8080/"
        }
      },
      "execution_count": 8,
      "outputs": [
        {
          "output_type": "stream",
          "name": "stdout",
          "text": [
            "[4, 5]\n"
          ]
        }
      ]
    },
    {
      "cell_type": "markdown",
      "source": [
        "**Problem 7**\n",
        "\n",
        "*   Use the list below\n",
        "*   Write a for loop so that every item in the list is printed\n",
        "\n"
      ],
      "metadata": {
        "id": "eO_HnwfUic9F"
      }
    },
    {
      "cell_type": "code",
      "source": [
        "animals= [\"koala\", \"cat\", \"fox\", \"panda\", \"chipmunk\", \"sloth\"]\n",
        "for animal in animals:\n",
        "  print(animal)"
      ],
      "metadata": {
        "id": "oJdo3DfcisLP",
        "outputId": "313be17b-7439-498a-ee39-53fb28dcb74e",
        "colab": {
          "base_uri": "https://localhost:8080/"
        }
      },
      "execution_count": 9,
      "outputs": [
        {
          "output_type": "stream",
          "name": "stdout",
          "text": [
            "koala\n",
            "cat\n",
            "fox\n",
            "panda\n",
            "chipmunk\n",
            "sloth\n"
          ]
        }
      ]
    },
    {
      "cell_type": "markdown",
      "source": [
        "**Problem 8**\n",
        "\n",
        "\n",
        "\n",
        "* Use the list below\n",
        "* Create a function that accepts a list as an argument\n",
        "*   Check if the data type at each index is a list\n",
        "*   If it is a list, check the length of the list. If it is greater than 3, add the second element to a new list.\n",
        "*   Return the new list\n",
        "\n",
        "\n",
        "\n",
        "\n",
        "\n"
      ],
      "metadata": {
        "id": "gmEVvlB5jG7m"
      }
    },
    {
      "cell_type": "code",
      "source": [
        "random_things= ['hello', ['breakfast', 'you', 'pencil', 2], 22, ['burrito', 'taco'],\n",
        "                [22, 'win', 33, [5], 'laptop']]\n",
        "\n",
        "def check_list(lst):\n",
        "    new_list = []\n",
        "    for item in lst:\n",
        "        if isinstance(item, list) and len(item) > 3:\n",
        "            new_list.append(item[1])\n",
        "    return new_list\n",
        "\n",
        "print(check_list(random_things))"
      ],
      "metadata": {
        "id": "RDlz_hkCj08s",
        "outputId": "eec4acd1-c53e-41a5-a96c-b6fd71cc784c",
        "colab": {
          "base_uri": "https://localhost:8080/"
        }
      },
      "execution_count": 11,
      "outputs": [
        {
          "output_type": "stream",
          "name": "stdout",
          "text": [
            "['you', 'win']\n"
          ]
        }
      ]
    },
    {
      "cell_type": "markdown",
      "source": [
        "**Problem 9**\n",
        "\n",
        "\n",
        "\n",
        "*   Use the list below\n",
        "*   Create a new list\n",
        "*   Use a for loop and the append() method to append each item with a Dr. prefix to the new list.\n",
        "\n",
        "\n",
        "\n",
        "\n"
      ],
      "metadata": {
        "id": "WdAG983lk4yc"
      }
    },
    {
      "cell_type": "code",
      "source": [
        "names= ['Dre', 'Seuss', 'Who', 'McCoy']\n",
        "Doctors = []\n",
        "for name in names:\n",
        "  Doctors.append(\"Dr.\"+name)\n",
        "print(Doctors)"
      ],
      "metadata": {
        "id": "jRp_K6kOlTDx",
        "outputId": "45d520bd-fd33-41a9-e42b-77d5c2343319",
        "colab": {
          "base_uri": "https://localhost:8080/"
        }
      },
      "execution_count": 12,
      "outputs": [
        {
          "output_type": "stream",
          "name": "stdout",
          "text": [
            "['Dr.Dre', 'Dr.Seuss', 'Dr.Who', 'Dr.McCoy']\n"
          ]
        }
      ]
    },
    {
      "cell_type": "markdown",
      "source": [
        "**Problem 10**\n",
        "\n",
        "\n",
        "\n",
        "*   Use the list below\n",
        "*   Use a while loop, iterate through the list and if there is an integer 100, print a message that says what index the 100 is at\n",
        "*   Example: \"There is a 100 at index no: 5\"\n",
        "\n",
        "\n",
        "\n",
        "\n",
        "\n"
      ],
      "metadata": {
        "id": "aHfC8mXulwEl"
      }
    },
    {
      "cell_type": "code",
      "source": [
        "num2= [10, 99, 85, 76, 43, 2, 77, 100, 13, 12, 42, 99, -1, -100]\n",
        "\n",
        "while 100 in num2:\n",
        "  index = num2.index(100)\n",
        "  print(f\"There is a 100 at index no: {index}\")\n",
        "  num2.remove(100)"
      ],
      "metadata": {
        "id": "psW443glmlVe",
        "outputId": "5afa0ad9-d801-4293-ee98-fe42fcdc0c80",
        "colab": {
          "base_uri": "https://localhost:8080/"
        }
      },
      "execution_count": 13,
      "outputs": [
        {
          "output_type": "stream",
          "name": "stdout",
          "text": [
            "There is a 100 at index no: 7\n"
          ]
        }
      ]
    },
    {
      "cell_type": "markdown",
      "source": [
        "**Problem 11**\n",
        "\n",
        "\n",
        "\n",
        "\n",
        "*   Use the list below\n",
        "*   Create a new list\n",
        "*   Use a for loop or a whole loop to iterate through the list and append all the elements in the old list, to the new list UNLESS the element is an empty string\n",
        "\n",
        "\n"
      ],
      "metadata": {
        "id": "zV4_y6n8mzL9"
      }
    },
    {
      "cell_type": "code",
      "source": [
        "list1= [\"McDonald's\", \"Wendy's\", \"\", \"Burger King\", \"\", \"Taco Bell\"]\n",
        "new_list = []\n",
        "for i in list1:\n",
        "  if i:\n",
        "    new_list.append(i)\n",
        "print(new_list)\n"
      ],
      "metadata": {
        "id": "vCGbxhKXnKjM",
        "outputId": "b92fd2b7-ec71-4cb9-8cc9-679359625de3",
        "colab": {
          "base_uri": "https://localhost:8080/"
        }
      },
      "execution_count": 14,
      "outputs": [
        {
          "output_type": "stream",
          "name": "stdout",
          "text": [
            "[\"McDonald's\", \"Wendy's\", 'Burger King', 'Taco Bell']\n"
          ]
        }
      ]
    },
    {
      "cell_type": "code",
      "source": [
        "\n",
        "my_list = [1, 2, 3]\n",
        "another_list = [4, 5, 6]\n",
        "my_list.append(another_list)\n",
        "print(my_list)  # Output: [1, 2, 3, [4, 5, 6]]\n",
        "\n",
        "my_list = [1, 2, 3]\n",
        "another_list = [4, 5, 6]\n",
        "my_list.extend(another_list)\n",
        "  # Output: [1, 2, 3, 4, 5, 6]\n",
        "another_list.append(7)\n",
        "print(my_list,another_list)"
      ],
      "metadata": {
        "id": "gYZOUFbprwPQ",
        "outputId": "c23d092b-d55e-4deb-ed9c-48f070583693",
        "colab": {
          "base_uri": "https://localhost:8080/"
        }
      },
      "execution_count": 15,
      "outputs": [
        {
          "output_type": "stream",
          "name": "stdout",
          "text": [
            "[1, 2, 3, [4, 5, 6]]\n",
            "[1, 2, 3, 4, 5, 6] [4, 5, 6, 7]\n"
          ]
        }
      ]
    },
    {
      "cell_type": "markdown",
      "source": [],
      "metadata": {
        "id": "yPurohASnUVy"
      }
    }
  ]
}